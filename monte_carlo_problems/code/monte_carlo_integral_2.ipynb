{
  "nbformat": 4,
  "nbformat_minor": 0,
  "metadata": {
    "colab": {
      "name": "monte_carlo_integral_2.ipynb",
      "provenance": [],
      "authorship_tag": "ABX9TyMZ/H5obg8NuoG789ASzS/3",
      "include_colab_link": true
    },
    "kernelspec": {
      "name": "python3",
      "display_name": "Python 3"
    },
    "language_info": {
      "name": "python"
    }
  },
  "cells": [
    {
      "cell_type": "markdown",
      "metadata": {
        "id": "view-in-github",
        "colab_type": "text"
      },
      "source": [
        "<a href=\"https://colab.research.google.com/github/LailaIsrat/monte_carlo_problems/blob/main/monte_carlo_integral_2.ipynb\" target=\"_parent\"><img src=\"https://colab.research.google.com/assets/colab-badge.svg\" alt=\"Open In Colab\"/></a>"
      ]
    },
    {
      "cell_type": "code",
      "metadata": {
        "id": "kZlhFYBQuDqT"
      },
      "source": [
        "import math\n",
        "import numpy as np\n",
        "import matplotlib.pyplot as plt"
      ],
      "execution_count": 1,
      "outputs": []
    },
    {
      "cell_type": "code",
      "metadata": {
        "colab": {
          "base_uri": "https://localhost:8080/"
        },
        "id": "ucP-WqGxuS44",
        "outputId": "1d490af2-3a0f-44e2-a88b-aefb42febae8"
      },
      "source": [
        "# equation y^2 = 4x (limit 0 to 4) and y=8-x (limit 4 to 8)\n",
        "\n",
        "trial_list = [100,1000,5000,10000] \n",
        "\n",
        "integral_error_list =[]\n",
        "\n",
        "for n in trial_list:\n",
        "  print()\n",
        "  print(\"For trial n = \", n)\n",
        "\n",
        "  func_sum_circle = 0\n",
        "  func_square_sum_circle = 0\n",
        "  func_sum_line = 0\n",
        "  func_square_sum_line = 0\n",
        "\n",
        "  for i in range(n):\n",
        "    x = np.random.uniform(0,4)\n",
        "    # equation y^2 = 4x\n",
        "    func_circle =math.sqrt(4*x) \n",
        "    func_sum_circle +=func_circle\n",
        "    b= (func_circle)**2\n",
        "    func_square_sum_circle += b\n",
        "  \n",
        "  func_sum_circle_avg = func_sum_circle / n\n",
        "  func_square_sum_circle_avg = func_square_sum_circle /n\n",
        "  intregal_for_equation_circle = func_sum_circle_avg  *(4-0)\n",
        "  \n",
        "  error_circle = ((4-0)/ math.sqrt(n)) * math.sqrt(func_square_sum_circle_avg -(func_sum_circle_avg**2)) \n",
        "\n",
        "  for j in range(n):\n",
        "    x = np.random.uniform(4,8)\n",
        "    # equation  y = 8-x\n",
        "    func_line = 8-x\n",
        "    func_sum_line +=func_line\n",
        "\n",
        "    d= (func_line)**2\n",
        "    func_square_sum_line += d\n",
        "  func_sum_line_avg = func_sum_line / n\n",
        "  func_square_sum_line_avg = func_square_sum_line /n\n",
        "  intregal_for_equation_line = func_sum_line_avg  *(8-4)\n",
        "\n",
        "  error_line = ((8-4)/ math.sqrt(n)) * math.sqrt(func_square_sum_line_avg -(func_sum_line_avg**2)) \n",
        "\n",
        "  total_integral = intregal_for_equation_circle + intregal_for_equation_line\n",
        "  print(\"Total Area = \",total_integral)\n",
        "  \n",
        "  final_error =(error_circle + error_line) /2\n",
        "  integral_error_list.append(final_error)\n",
        "  print(\"Error =\",final_error)\n",
        "  print()"
      ],
      "execution_count": 2,
      "outputs": [
        {
          "output_type": "stream",
          "text": [
            "\n",
            "For trial n =  100\n",
            "Total Area =  18.586563491135713\n",
            "Error = 0.41880698716759357\n",
            "\n",
            "\n",
            "For trial n =  1000\n",
            "Total Area =  18.853700613773277\n",
            "Error = 0.13322855163720973\n",
            "\n",
            "\n",
            "For trial n =  5000\n",
            "Total Area =  18.65191132389446\n",
            "Error = 0.05891069948559374\n",
            "\n",
            "\n",
            "For trial n =  10000\n",
            "Total Area =  18.76330736407904\n",
            "Error = 0.041755654497544856\n",
            "\n"
          ],
          "name": "stdout"
        }
      ]
    },
    {
      "cell_type": "code",
      "metadata": {
        "colab": {
          "base_uri": "https://localhost:8080/",
          "height": 331
        },
        "id": "2tkifA5PvbUJ",
        "outputId": "900ab59b-ae38-4eef-e659-f7a13b2902eb"
      },
      "source": [
        "print()\n",
        "print(\"Error list : \",integral_error_list)\n",
        "print ()\n",
        "x = [\"100\",\"1000\",\"5000\",\"10000\"]\n",
        "y = integral_error_list\n",
        "plt.bar(x, y, color = \"green\",width=0.7)\n",
        "plt.xlabel(\"Value of n\")\n",
        "plt.ylabel(\"Error value\")\n",
        "plt.show()"
      ],
      "execution_count": 3,
      "outputs": [
        {
          "output_type": "stream",
          "text": [
            "\n",
            "Error list :  [0.41880698716759357, 0.13322855163720973, 0.05891069948559374, 0.041755654497544856]\n",
            "\n"
          ],
          "name": "stdout"
        },
        {
          "output_type": "display_data",
          "data": {
            "image/png": "[encoded data removed]",
            "text/plain": [
              "<Figure size 432x288 with 1 Axes>"
            ]
          },
          "metadata": {
            "tags": [],
            "needs_background": "light"
          }
        }
      ]
    }
  ]
}