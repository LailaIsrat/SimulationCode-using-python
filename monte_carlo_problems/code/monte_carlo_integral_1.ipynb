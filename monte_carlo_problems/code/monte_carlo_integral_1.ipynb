{
  "nbformat": 4,
  "nbformat_minor": 0,
  "metadata": {
    "colab": {
      "name": "monte_carlo_integral_1.ipynb",
      "provenance": [],
      "authorship_tag": "ABX9TyNz2RfyQsdfWu1ubEW4zIJF",
      "include_colab_link": true
    },
    "kernelspec": {
      "name": "python3",
      "display_name": "Python 3"
    },
    "language_info": {
      "name": "python"
    }
  },
  "cells": [
    {
      "cell_type": "markdown",
      "metadata": {
        "id": "view-in-github",
        "colab_type": "text"
      },
      "source": [
        "<a href=\"https://colab.research.google.com/github/LailaIsrat/monte_carlo_problems/blob/main/monte_carlo_integral_1.ipynb\" target=\"_parent\"><img src=\"https://colab.research.google.com/assets/colab-badge.svg\" alt=\"Open In Colab\"/></a>"
      ]
    },
    {
      "cell_type": "code",
      "metadata": {
        "id": "1_WWXlITZKn1"
      },
      "source": [
        "import math\n",
        "import random\n",
        "import matplotlib.pyplot as plt"
      ],
      "execution_count": 1,
      "outputs": []
    },
    {
      "cell_type": "code",
      "metadata": {
        "colab": {
          "base_uri": "https://localhost:8080/"
        },
        "id": "ZCxPb3kMZUXy",
        "outputId": "f8209b90-b6f7-4723-a668-245459cf8865"
      },
      "source": [
        "#equation f(x) = (x^2) * (e^x) (ln x)  limit 0 to 2\n",
        "trial = [100,1000,5000,10000]\n",
        "a=0\n",
        "b=2\n",
        "error_list =[]\n",
        "for n in trial:\n",
        "  print (\"For n =\",n)\n",
        "  func_sum = 0\n",
        "  func_square_sum = 0\n",
        "  for i in range (n):\n",
        "    x= random.uniform(0,2)\n",
        "    func= (x**2)*(math.exp(x)) * math.log(x)\n",
        "    c= func\n",
        "    func_sum += c\n",
        "\n",
        "    function_square = c**2\n",
        "    func_square_sum += function_square\n",
        "\n",
        "  func_avg = func_sum / n\n",
        "  func_square_avg = func_square_sum/n\n",
        "\n",
        "  intregal= func_avg *(b-a)\n",
        "  print (\"Intregal =\",intregal)\n",
        "  error = ((b-a)/ math.sqrt(n)) * math.sqrt(func_square_avg -(func_avg**2)) \n",
        "  error_list.append(error)\n",
        "  print(\"Error =\",error)\n",
        "  print()"
      ],
      "execution_count": 2,
      "outputs": [
        {
          "output_type": "stream",
          "text": [
            "For n = 100\n",
            "Intregal = 5.698977230027293\n",
            "Error = 1.1097817032806925\n",
            "\n",
            "For n = 1000\n",
            "Intregal = 5.795224853814347\n",
            "Error = 0.31546161655791854\n",
            "\n",
            "For n = 5000\n",
            "Intregal = 5.727860668881972\n",
            "Error = 0.14305404187502108\n",
            "\n",
            "For n = 10000\n",
            "Intregal = 5.92672860978961\n",
            "Error = 0.10267762232463681\n",
            "\n"
          ],
          "name": "stdout"
        }
      ]
    },
    {
      "cell_type": "code",
      "metadata": {
        "colab": {
          "base_uri": "https://localhost:8080/",
          "height": 331
        },
        "id": "NNe4PWbQao5w",
        "outputId": "2ce07d7d-85d0-41bc-88b6-612776b28f6d"
      },
      "source": [
        "print()\n",
        "print(\"Error list : \",error_list)\n",
        "print ()\n",
        "x = [\"100\",\"500\",\"1000\",\"5000\"]\n",
        "y = error_list\n",
        "plt.bar(x, y, color = \"green\",width=0.7)\n",
        "plt.xlabel(\"Value of n\")\n",
        "plt.ylabel(\"Error value\")\n",
        "plt.show()"
      ],
      "execution_count": 3,
      "outputs": [
        {
          "output_type": "stream",
          "text": [
            "\n",
            "Error list :  [1.1097817032806925, 0.31546161655791854, 0.14305404187502108, 0.10267762232463681]\n",
            "\n"
          ],
          "name": "stdout"
        },
        {
          "output_type": "display_data",
          "data": {
            "image/png": "[encoded data removed]",
            "text/plain": [
              "<Figure size 432x288 with 1 Axes>"
            ]
          },
          "metadata": {
            "tags": [],
            "needs_background": "light"
          }
        }
      ]
    }
  ]
}