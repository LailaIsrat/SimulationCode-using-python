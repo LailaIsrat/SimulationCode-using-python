{
  "nbformat": 4,
  "nbformat_minor": 0,
  "metadata": {
    "colab": {
      "name": "integral_3_screen_shot.ipynb",
      "provenance": [],
      "authorship_tag": "ABX9TyMN3O+rDkueMCFtZiZQewGm",
      "include_colab_link": true
    },
    "kernelspec": {
      "name": "python3",
      "display_name": "Python 3"
    },
    "language_info": {
      "name": "python"
    }
  },
  "cells": [
    {
      "cell_type": "markdown",
      "metadata": {
        "id": "view-in-github",
        "colab_type": "text"
      },
      "source": [
        "<a href=\"https://colab.research.google.com/github/LailaIsrat/monte_carlo_problems/blob/main/integral_3_screen_shot.ipynb\" target=\"_parent\"><img src=\"https://colab.research.google.com/assets/colab-badge.svg\" alt=\"Open In Colab\"/></a>"
      ]
    },
    {
      "cell_type": "code",
      "metadata": {
        "id": "A8lGW1kOORx5"
      },
      "source": [
        "import math\n",
        "import random\n",
        "import matplotlib.pyplot as plt"
      ],
      "execution_count": 1,
      "outputs": []
    },
    {
      "cell_type": "code",
      "metadata": {
        "colab": {
          "base_uri": "https://localhost:8080/"
        },
        "id": "48ZqvRDFOeW0",
        "outputId": "7175fcc7-121e-4d08-b7c5-78f53b5a0266"
      },
      "source": [
        "#equation f(x) = (x^2) * (e^(-x)) (ln (x+2))  limit 0 to 2\n",
        "trial = [100,1000,5000,10000]\n",
        "a=0\n",
        "b=2\n",
        "error_list =[]\n",
        "for n in trial:\n",
        "  print (\"For n =\",n)\n",
        "  func_sum = 0\n",
        "  func_square_sum = 0\n",
        "  for i in range (n):\n",
        "    x= random.uniform(0,2)\n",
        "    func= (x**2)*(math.exp(-x)) * math.log(x+2)\n",
        "    c= func\n",
        "    func_sum += c\n",
        "\n",
        "    function_square = c**2\n",
        "    func_square_sum += function_square\n",
        "\n",
        "  func_avg = func_sum / n\n",
        "  func_square_avg = func_square_sum/n\n",
        "\n",
        "  intregal= func_avg *(b-a)\n",
        "  print (\"Intregal =\",intregal)\n",
        "  error = ((b-a)/ math.sqrt(n)) * math.sqrt(func_square_avg -(func_avg**2)) \n",
        "  error_list.append(error)\n",
        "  print(\"Error =\",error)\n",
        "  print()"
      ],
      "execution_count": 2,
      "outputs": [
        {
          "output_type": "stream",
          "text": [
            "For n = 100\n",
            "Intregal = 0.8098045452515392\n",
            "Error = 0.04973623467101082\n",
            "\n",
            "For n = 1000\n",
            "Intregal = 0.770325519643031\n",
            "Error = 0.016095765087175525\n",
            "\n",
            "For n = 5000\n",
            "Intregal = 0.7687967334213228\n",
            "Error = 0.007134641728402809\n",
            "\n",
            "For n = 10000\n",
            "Intregal = 0.7702013840539322\n",
            "Error = 0.005075386696668766\n",
            "\n"
          ],
          "name": "stdout"
        }
      ]
    },
    {
      "cell_type": "code",
      "metadata": {
        "colab": {
          "base_uri": "https://localhost:8080/",
          "height": 331
        },
        "id": "0ZGBBEsZPMdJ",
        "outputId": "703e7ffa-0adf-4b09-8781-ac695549a371"
      },
      "source": [
        "print()\n",
        "print(\"Error list : \",error_list)\n",
        "print ()\n",
        "x = [\"100\",\"500\",\"1000\",\"5000\"]\n",
        "y = error_list\n",
        "plt.bar(x, y, color = \"green\")\n",
        "plt.xlabel(\"Value of n\")\n",
        "plt.ylabel(\"Error value\")\n",
        "plt.show()"
      ],
      "execution_count": 3,
      "outputs": [
        {
          "output_type": "stream",
          "text": [
            "\n",
            "Error list :  [0.04973623467101082, 0.016095765087175525, 0.007134641728402809, 0.005075386696668766]\n",
            "\n"
          ],
          "name": "stdout"
        },
        {
          "output_type": "display_data",
          "data": {
            "image/png": "[encoded data removed]",
            "text/plain": [
              "<Figure size 432x288 with 1 Axes>"
            ]
          },
          "metadata": {
            "tags": [],
            "needs_background": "light"
          }
        }
      ]
    }
  ]
}