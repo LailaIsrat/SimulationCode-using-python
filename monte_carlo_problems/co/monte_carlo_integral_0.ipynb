{
  "nbformat": 4,
  "nbformat_minor": 0,
  "metadata": {
    "colab": {
      "name": "monte_carlo_integral_0.ipynb",
      "provenance": [],
      "authorship_tag": "ABX9TyNkpYCa0zm3YPDJvR0MAB6S",
      "include_colab_link": true
    },
    "kernelspec": {
      "name": "python3",
      "display_name": "Python 3"
    },
    "language_info": {
      "name": "python"
    }
  },
  "cells": [
    {
      "cell_type": "markdown",
      "metadata": {
        "id": "view-in-github",
        "colab_type": "text"
      },
      "source": [
        "<a href=\"https://colab.research.google.com/github/LailaIsrat/monte_carlo_problems/blob/main/monte_carlo_integral_0.ipynb\" target=\"_parent\"><img src=\"https://colab.research.google.com/assets/colab-badge.svg\" alt=\"Open In Colab\"/></a>"
      ]
    },
    {
      "cell_type": "code",
      "metadata": {
        "id": "FaLf6Le3LDZ6"
      },
      "source": [
        "import math\n",
        "import random\n",
        "import matplotlib.pyplot as plt"
      ],
      "execution_count": 1,
      "outputs": []
    },
    {
      "cell_type": "code",
      "metadata": {
        "colab": {
          "base_uri": "https://localhost:8080/"
        },
        "id": "r0fs9IdxLKZM",
        "outputId": "94257468-8630-4cfb-b1a7-3cc539cafd84"
      },
      "source": [
        "#equation f(x) = x * e^x  limit 0 to 5\n",
        "trial = [100,500,1000,5000]\n",
        "a=0\n",
        "b=5\n",
        "error_list =[]\n",
        "for n in trial:\n",
        "  print (\"For n =\",n)\n",
        "  func_sum = 0\n",
        "  func_square_sum = 0\n",
        "  for i in range (n):\n",
        "    x= random.uniform(0,5)\n",
        "    func= x*(math.exp(x))\n",
        "    c= func\n",
        "    func_sum += c\n",
        "\n",
        "    function_square = c**2\n",
        "    func_square_sum += function_square\n",
        "\n",
        "  func_avg = func_sum / n\n",
        "  func_square_avg = func_square_sum/n\n",
        "\n",
        "  intregal= func_avg *(b-a)\n",
        "  print (\"Intregal =\",intregal)\n",
        "  error = ((b-a)/ math.sqrt(n)) * math.sqrt(func_square_avg -(func_avg**2)) \n",
        "  error_list.append(error)\n",
        "  print(\"Error =\",error)\n",
        "  print()"
      ],
      "execution_count": 2,
      "outputs": [
        {
          "output_type": "stream",
          "text": [
            "For n = 100\n",
            "Intregal = 612.1197315662347\n",
            "Error = 91.9850216403401\n",
            "\n",
            "For n = 500\n",
            "Intregal = 581.7309264641037\n",
            "Error = 38.56353449037689\n",
            "\n",
            "For n = 1000\n",
            "Intregal = 571.8311057948488\n",
            "Error = 27.019650920083862\n",
            "\n",
            "For n = 5000\n",
            "Intregal = 592.3436352548824\n",
            "Error = 12.399090533511464\n",
            "\n"
          ],
          "name": "stdout"
        }
      ]
    },
    {
      "cell_type": "code",
      "metadata": {
        "colab": {
          "base_uri": "https://localhost:8080/",
          "height": 331
        },
        "id": "A3LMMsYUWh2A",
        "outputId": "67ad6c07-4f25-4f83-d3ba-101623c7a418"
      },
      "source": [
        "print()\n",
        "print(\"Error list : \",error_list)\n",
        "print ()\n",
        "x = [\"100\",\"500\",\"1000\",\"5000\"]\n",
        "y = error_list\n",
        "plt.bar(x, y, color = \"green\",width=0.7)\n",
        "plt.xlabel(\"Value of n\")\n",
        "plt.ylabel(\"Error value\")\n",
        "plt.show()"
      ],
      "execution_count": 3,
      "outputs": [
        {
          "output_type": "stream",
          "text": [
            "\n",
            "Error list :  [91.9850216403401, 38.56353449037689, 27.019650920083862, 12.399090533511464]\n",
            "\n"
          ],
          "name": "stdout"
        },
        {
          "output_type": "display_data",
          "data": {
            "image/png": "[encoded data removed]",
            "text/plain": [
              "<Figure size 432x288 with 1 Axes>"
            ]
          },
          "metadata": {
            "tags": [],
            "needs_background": "light"
          }
        }
      ]
    }
  ]
}