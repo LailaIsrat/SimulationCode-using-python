{
  "nbformat": 4,
  "nbformat_minor": 0,
  "metadata": {
    "colab": {
      "name": "inventory_system_spring2021.ipynb",
      "provenance": []
    },
    "kernelspec": {
      "name": "python3",
      "display_name": "Python 3"
    },
    "language_info": {
      "name": "python"
    }
  },
  "cells": [
    {
      "cell_type": "code",
      "metadata": {
        "id": "PBdwNzEHpqTk"
      },
      "source": [
        "import numpy as np\n",
        "import matplotlib.pyplot as plt"
      ],
      "execution_count": 21,
      "outputs": []
    },
    {
      "cell_type": "code",
      "metadata": {
        "colab": {
          "base_uri": "https://localhost:8080/"
        },
        "id": "_TopdVcIssIR",
        "outputId": "38da3f18-e681-444a-c3a8-92c3231ac19b"
      },
      "source": [
        "#maximum inventory level / stock limitation\n",
        "M = int (input(print(\"Enter maximum inventory\")))\n",
        "\n",
        "#review period / reordering time\n",
        "N = int (input(print(\"Enter review period\")))\n",
        "\n",
        "#initial inventory level\n",
        "Beginning_Inventory = 3\n",
        "\n",
        "#initial order quantity\n",
        "Order_quantity = 8\n",
        "#simulation time for 25 days [5 days = 1 cycle    25 days = 5 cycle]\n",
        "#total_simulation_time = 25    # so we heve to continue till cycle 5\n"
      ],
      "execution_count": 22,
      "outputs": [
        {
          "output_type": "stream",
          "text": [
            "Enter maximum inventory\n",
            "11\n",
            "Enter review period\n",
            "5\n"
          ],
          "name": "stdout"
        }
      ]
    },
    {
      "cell_type": "code",
      "metadata": {
        "id": "v3hKrJNMtBkB"
      },
      "source": [
        "days_until_order_arrive = 2 \n",
        "Shortage_quantity = 0\n",
        "Ending_inventory = 0\n",
        "#Demand=0\n",
        "total_ending_inventory =[]\n",
        "everage_ending_inventory= 0\n",
        "total_shortage_quantity = []\n",
        "Ending_inventory_of_each_day =[]\n"
      ],
      "execution_count": 23,
      "outputs": []
    },
    {
      "cell_type": "code",
      "metadata": {
        "colab": {
          "base_uri": "https://localhost:8080/",
          "height": 1000
        },
        "id": "QusNdLxMttYY",
        "outputId": "6b456428-468e-4acc-8026-f7be1d40683a"
      },
      "source": [
        "for Cycle in range(1,6):\n",
        "  print()\n",
        "  print(\"Cycle : \", Cycle)\n",
        "  for Day in range (1,N+1):\n",
        "    print()\n",
        "    print(\"Day =\",Day)\n",
        "    \n",
        "    if ((Cycle==1)and(Day==1)):\n",
        "      days_until_order_arrive=2\n",
        "      Beginning_Inventory = 3\n",
        "      Order_quantity = 8\n",
        "      #Ending_inventory= Beginning_Inventory - daily_demand\n",
        "      \n",
        "    else:\n",
        "      days_until_order_arrive = days_until_order_arrive - 1\n",
        "      #Beginning_Inventory = Ending_inventory\n",
        "\n",
        "      if (days_until_order_arrive == -1):\n",
        "        Beginning_Inventory = Ending_inventory + Order_quantity\n",
        "        Ending_inventory = Beginning_Inventory- total_demand\n",
        "        #Ending_inventory = Beginning_Inventory- total_demand -Shortage_quantity\n",
        "    print(\"Beginning Inventory =\",Beginning_Inventory) \n",
        "\n",
        "    # for demand\n",
        "    a1 = [0,1,2,3,4]   \n",
        "    Demand = np.random.choice(a1,p=[0.10,0.25,0.35,0.21,0.09])\n",
        "    print(\"Demand =\",Demand)\n",
        "    daily_demand = Demand \n",
        "    total_demand = daily_demand + Shortage_quantity\n",
        "\n",
        "    if total_demand > Beginning_Inventory:\n",
        "      Shortage_quantity =  (total_demand - Beginning_Inventory)\n",
        "      \n",
        "      Ending_inventory =0\n",
        "    else:\n",
        "      Ending_inventory= Beginning_Inventory - total_demand\n",
        "      Shortage_quantity = 0\n",
        "\n",
        "    Ending_inventory_of_each_day.append(Ending_inventory)\n",
        "    total_ending_inventory.append(Ending_inventory)\n",
        "    total_shortage_quantity.append(Shortage_quantity)\n",
        "\n",
        "    print(\"Ending inventory =\",Ending_inventory)\n",
        "    print(\"Shortage Quantity =\",Shortage_quantity)\n",
        "    Beginning_Inventory = Ending_inventory\n",
        "\n",
        "    if (Day == N):   # N=5\n",
        "      Order_quantity = M - Ending_inventory\n",
        "      # for lead time\n",
        "      a2 = [1,2,3]       \n",
        "      lead_time = np.random.choice(a2,p=[0.60,0.30,0.10]) \n",
        "      days_until_order_arrive = lead_time\n",
        "    print(\"Days until order arrive =\",days_until_order_arrive)\n",
        "\n",
        "  print(\"Order Quantity = \",Order_quantity)\n",
        "  #graph\n",
        "  Day_number =[\"1\",\"2\",\"3\",\"4\",\"5\"]\n",
        "  plt.bar(Day_number,Ending_inventory_of_each_day)\n",
        "  plt.show()\n",
        "  Ending_inventory_of_each_day.clear() \n",
        "\n",
        "#************\n",
        "  sum_ending_inventory= sum(total_ending_inventory) \n",
        "  everage_ending_inventory = sum_ending_inventory / len(total_ending_inventory)\n",
        "print(\"List of ending inventory: \",total_ending_inventory)\n",
        "print(\"Everage ending inventory:  \",everage_ending_inventory)\n",
        "print()\n",
        "print(\"List of shortage quantity: \",total_shortage_quantity)\n",
        "number_of_days_shortage_occurs = np.count_nonzero(total_shortage_quantity)\n",
        "print(\"Number of days shortage occurs :  \",number_of_days_shortage_occurs )\n",
        "\n"
      ],
      "execution_count": 24,
      "outputs": [
        {
          "output_type": "stream",
          "text": [
            "\n",
            "Cycle :  1\n",
            "\n",
            "Day = 1\n",
            "Beginning Inventory = 3\n",
            "Demand = 1\n",
            "Ending inventory = 2\n",
            "Shortage Quantity = 0\n",
            "Days until order arrive = 2\n",
            "\n",
            "Day = 2\n",
            "Beginning Inventory = 2\n",
            "Demand = 2\n",
            "Ending inventory = 0\n",
            "Shortage Quantity = 0\n",
            "Days until order arrive = 1\n",
            "\n",
            "Day = 3\n",
            "Beginning Inventory = 0\n",
            "Demand = 2\n",
            "Ending inventory = 0\n",
            "Shortage Quantity = 2\n",
            "Days until order arrive = 0\n",
            "\n",
            "Day = 4\n",
            "Beginning Inventory = 8\n",
            "Demand = 4\n",
            "Ending inventory = 2\n",
            "Shortage Quantity = 0\n",
            "Days until order arrive = -1\n",
            "\n",
            "Day = 5\n",
            "Beginning Inventory = 2\n",
            "Demand = 1\n",
            "Ending inventory = 1\n",
            "Shortage Quantity = 0\n",
            "Days until order arrive = 2\n",
            "Order Quantity =  10\n"
          ],
          "name": "stdout"
        },
        {
          "output_type": "display_data",
          "data": {
            "image/png": "[encoded data removed]",
            "text/plain": [
              "<Figure size 432x288 with 1 Axes>"
            ]
          },
          "metadata": {
            "tags": [],
            "needs_background": "light"
          }
        },
        {
          "output_type": "stream",
          "text": [
            "\n",
            "Cycle :  2\n",
            "\n",
            "Day = 1\n",
            "Beginning Inventory = 1\n",
            "Demand = 3\n",
            "Ending inventory = 0\n",
            "Shortage Quantity = 2\n",
            "Days until order arrive = 1\n",
            "\n",
            "Day = 2\n",
            "Beginning Inventory = 0\n",
            "Demand = 3\n",
            "Ending inventory = 0\n",
            "Shortage Quantity = 5\n",
            "Days until order arrive = 0\n",
            "\n",
            "Day = 3\n",
            "Beginning Inventory = 10\n",
            "Demand = 0\n",
            "Ending inventory = 5\n",
            "Shortage Quantity = 0\n",
            "Days until order arrive = -1\n",
            "\n",
            "Day = 4\n",
            "Beginning Inventory = 5\n",
            "Demand = 3\n",
            "Ending inventory = 2\n",
            "Shortage Quantity = 0\n",
            "Days until order arrive = -2\n",
            "\n",
            "Day = 5\n",
            "Beginning Inventory = 2\n",
            "Demand = 2\n",
            "Ending inventory = 0\n",
            "Shortage Quantity = 0\n",
            "Days until order arrive = 3\n",
            "Order Quantity =  11\n"
          ],
          "name": "stdout"
        },
        {
          "output_type": "display_data",
          "data": {
            "image/png": "[encoded data removed]",
            "text/plain": [
              "<Figure size 432x288 with 1 Axes>"
            ]
          },
          "metadata": {
            "tags": [],
            "needs_background": "light"
          }
        },
        {
          "output_type": "stream",
          "text": [
            "\n",
            "Cycle :  3\n",
            "\n",
            "Day = 1\n",
            "Beginning Inventory = 0\n",
            "Demand = 1\n",
            "Ending inventory = 0\n",
            "Shortage Quantity = 1\n",
            "Days until order arrive = 2\n",
            "\n",
            "Day = 2\n",
            "Beginning Inventory = 0\n",
            "Demand = 2\n",
            "Ending inventory = 0\n",
            "Shortage Quantity = 3\n",
            "Days until order arrive = 1\n",
            "\n",
            "Day = 3\n",
            "Beginning Inventory = 0\n",
            "Demand = 4\n",
            "Ending inventory = 0\n",
            "Shortage Quantity = 7\n",
            "Days until order arrive = 0\n",
            "\n",
            "Day = 4\n",
            "Beginning Inventory = 11\n",
            "Demand = 1\n",
            "Ending inventory = 3\n",
            "Shortage Quantity = 0\n",
            "Days until order arrive = -1\n",
            "\n",
            "Day = 5\n",
            "Beginning Inventory = 3\n",
            "Demand = 1\n",
            "Ending inventory = 2\n",
            "Shortage Quantity = 0\n",
            "Days until order arrive = 1\n",
            "Order Quantity =  9\n"
          ],
          "name": "stdout"
        },
        {
          "output_type": "display_data",
          "data": {
            "image/png": "[encoded data removed]",
            "text/plain": [
              "<Figure size 432x288 with 1 Axes>"
            ]
          },
          "metadata": {
            "tags": [],
            "needs_background": "light"
          }
        },
        {
          "output_type": "stream",
          "text": [
            "\n",
            "Cycle :  4\n",
            "\n",
            "Day = 1\n",
            "Beginning Inventory = 2\n",
            "Demand = 0\n",
            "Ending inventory = 2\n",
            "Shortage Quantity = 0\n",
            "Days until order arrive = 0\n",
            "\n",
            "Day = 2\n",
            "Beginning Inventory = 11\n",
            "Demand = 4\n",
            "Ending inventory = 7\n",
            "Shortage Quantity = 0\n",
            "Days until order arrive = -1\n",
            "\n",
            "Day = 3\n",
            "Beginning Inventory = 7\n",
            "Demand = 2\n",
            "Ending inventory = 5\n",
            "Shortage Quantity = 0\n",
            "Days until order arrive = -2\n",
            "\n",
            "Day = 4\n",
            "Beginning Inventory = 5\n",
            "Demand = 2\n",
            "Ending inventory = 3\n",
            "Shortage Quantity = 0\n",
            "Days until order arrive = -3\n",
            "\n",
            "Day = 5\n",
            "Beginning Inventory = 3\n",
            "Demand = 1\n",
            "Ending inventory = 2\n",
            "Shortage Quantity = 0\n",
            "Days until order arrive = 1\n",
            "Order Quantity =  9\n"
          ],
          "name": "stdout"
        },
        {
          "output_type": "display_data",
          "data": {
            "image/png": "[encoded data removed]",
            "text/plain": [
              "<Figure size 432x288 with 1 Axes>"
            ]
          },
          "metadata": {
            "tags": [],
            "needs_background": "light"
          }
        },
        {
          "output_type": "stream",
          "text": [
            "\n",
            "Cycle :  5\n",
            "\n",
            "Day = 1\n",
            "Beginning Inventory = 2\n",
            "Demand = 4\n",
            "Ending inventory = 0\n",
            "Shortage Quantity = 2\n",
            "Days until order arrive = 0\n",
            "\n",
            "Day = 2\n",
            "Beginning Inventory = 9\n",
            "Demand = 0\n",
            "Ending inventory = 7\n",
            "Shortage Quantity = 0\n",
            "Days until order arrive = -1\n",
            "\n",
            "Day = 3\n",
            "Beginning Inventory = 7\n",
            "Demand = 2\n",
            "Ending inventory = 5\n",
            "Shortage Quantity = 0\n",
            "Days until order arrive = -2\n",
            "\n",
            "Day = 4\n",
            "Beginning Inventory = 5\n",
            "Demand = 2\n",
            "Ending inventory = 3\n",
            "Shortage Quantity = 0\n",
            "Days until order arrive = -3\n",
            "\n",
            "Day = 5\n",
            "Beginning Inventory = 3\n",
            "Demand = 2\n",
            "Ending inventory = 1\n",
            "Shortage Quantity = 0\n",
            "Days until order arrive = 1\n",
            "Order Quantity =  10\n"
          ],
          "name": "stdout"
        },
        {
          "output_type": "display_data",
          "data": {
            "image/png": "[encoded data removed]",
            "text/plain": [
              "<Figure size 432x288 with 1 Axes>"
            ]
          },
          "metadata": {
            "tags": [],
            "needs_background": "light"
          }
        },
        {
          "output_type": "stream",
          "text": [
            "List of ending inventory:  [2, 0, 0, 2, 1, 0, 0, 5, 2, 0, 0, 0, 0, 3, 2, 2, 7, 5, 3, 2, 0, 7, 5, 3, 1]\n",
            "Everage ending inventory:   2.08\n",
            "\n",
            "List of shortage quantity:  [0, 0, 2, 0, 0, 2, 5, 0, 0, 0, 1, 3, 7, 0, 0, 0, 0, 0, 0, 0, 2, 0, 0, 0, 0]\n",
            "Number of days shortage occurs :   7\n"
          ],
          "name": "stdout"
        }
      ]
    }
  ]
}