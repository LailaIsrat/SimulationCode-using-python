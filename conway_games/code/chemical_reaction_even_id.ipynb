{
  "nbformat": 4,
  "nbformat_minor": 0,
  "metadata": {
    "colab": {
      "name": "chemical_reaction_even_id.ipynb",
      "provenance": [],
      "authorship_tag": "ABX9TyMOsBuo4dGwow8PL8kI321y",
      "include_colab_link": true
    },
    "kernelspec": {
      "name": "python3",
      "display_name": "Python 3"
    },
    "language_info": {
      "name": "python"
    }
  },
  "cells": [
    {
      "cell_type": "markdown",
      "metadata": {
        "id": "view-in-github",
        "colab_type": "text"
      },
      "source": [
        "<a href=\"https://colab.research.google.com/github/LailaIsrat/conway_games/blob/main/chemical_reaction_even_id.ipynb\" target=\"_parent\"><img src=\"https://colab.research.google.com/assets/colab-badge.svg\" alt=\"Open In Colab\"/></a>"
      ]
    },
    {
      "cell_type": "code",
      "metadata": {
        "id": "gmVM7vbUNkZq"
      },
      "source": [
        "import numpy as np\n",
        "import math"
      ],
      "execution_count": 1,
      "outputs": []
    },
    {
      "cell_type": "code",
      "metadata": {
        "colab": {
          "base_uri": "https://localhost:8080/"
        },
        "id": "Njji4tHL12Ww",
        "outputId": "ba60749b-c596-4c4b-ca0a-cc2908181663"
      },
      "source": [
        "A=50\n",
        "B=25\n",
        "C=20\n",
        "t=0\n",
        "kf=0.035\n",
        "kb=0.02\n",
        "while True:\n",
        "    a=A\n",
        "    b=B\n",
        "    c=C\n",
        "    t += 0.3\n",
        "    A = A + (kb*c-2*kf*a*b)*0.3\n",
        "    B = B + (kb*c-1.6*kf*a*b)*0.3\n",
        "    C = C + (3*kf*a*b-1.8*kb*c)*0.3\n",
        "    print()\n",
        "    print(f\"At time {round(t,1)} : \")\n",
        "    # print()\n",
        "    print(\"C1: \",A)\n",
        "    print(\"C2: \",B)\n",
        "    print(\"C3: \",C)\n",
        "\n",
        "    if abs(A-a)<0.1:\n",
        "      break\n",
        "    elif abs(B-b)<0.1:\n",
        "      break\n",
        "    elif abs(C-c)<0.1:\n",
        "      break\n",
        "\n"
      ],
      "execution_count": 2,
      "outputs": [
        {
          "output_type": "stream",
          "text": [
            "\n",
            "At time 0.3 : \n",
            "C1:  23.869999999999997\n",
            "C2:  4.120000000000001\n",
            "C3:  59.159000000000006\n",
            "\n",
            "At time 0.6 : \n",
            "C1:  22.159721599999997\n",
            "C2:  2.8227680800000003\n",
            "C3:  61.6179314\n",
            "\n",
            "At time 0.9 : \n",
            "C1:  21.2158423377225\n",
            "C2:  2.1416061878580024\n",
            "C3:  62.92283801689625\n",
            "\n",
            "At time 1.2 : \n",
            "C1:  20.639223801971063\n",
            "C2:  1.7558187648771302\n",
            "C3:  63.67450471209299\n",
            "\n",
            "At time 1.5 : \n",
            "C1:  20.26025736491963\n",
            "C2:  1.5290550208904965\n",
            "C3:  64.12834025918836\n",
            "\n",
            "At time 1.8 : \n",
            "C1:  19.994467393259118\n",
            "C2:  1.393377051873111\n",
            "C3:  64.41159420421259\n",
            "\n",
            "At time 2.1 : \n",
            "C1:  19.795880485850354\n",
            "C2:  1.3118014389911536\n",
            "C3:  64.59353369575815\n"
          ],
          "name": "stdout"
        }
      ]
    }
  ]
}