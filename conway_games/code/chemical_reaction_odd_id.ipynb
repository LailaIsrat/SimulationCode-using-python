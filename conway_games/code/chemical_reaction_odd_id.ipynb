{
  "nbformat": 4,
  "nbformat_minor": 0,
  "metadata": {
    "colab": {
      "name": "chemical_reaction_odd_id.ipynb",
      "provenance": [],
      "authorship_tag": "ABX9TyOge2ZoFbhxObU50ueFDyo/",
      "include_colab_link": true
    },
    "kernelspec": {
      "name": "python3",
      "display_name": "Python 3"
    },
    "language_info": {
      "name": "python"
    }
  },
  "cells": [
    {
      "cell_type": "markdown",
      "metadata": {
        "id": "view-in-github",
        "colab_type": "text"
      },
      "source": [
        "<a href=\"https://colab.research.google.com/github/LailaIsrat/conway_games/blob/main/chemical_reaction_odd_id.ipynb\" target=\"_parent\"><img src=\"https://colab.research.google.com/assets/colab-badge.svg\" alt=\"Open In Colab\"/></a>"
      ]
    },
    {
      "cell_type": "code",
      "metadata": {
        "id": "79ngY2EGFEN_"
      },
      "source": [
        "import math\n",
        "import numpy as np"
      ],
      "execution_count": 5,
      "outputs": []
    },
    {
      "cell_type": "code",
      "metadata": {
        "colab": {
          "base_uri": "https://localhost:8080/"
        },
        "id": "QQ9RNEjD27zB",
        "outputId": "b1cfea83-71db-4cf3-9fb7-8646585a4993"
      },
      "source": [
        "A=50\n",
        "B=25\n",
        "C=15\n",
        "delta_t=0\n",
        "#rate_of_forward\n",
        "kf=0.025\n",
        "#rate_of backword\n",
        "kb=0.01\n",
        "while True:\n",
        "    a=A\n",
        "    b=B\n",
        "    c=C\n",
        "    delta_t += 0.2\n",
        "    A = A + (kb*c-kf*a*b)*0.2\n",
        "    B = B + (kb*c-2*kf*a*b)*0.2\n",
        "    C = C + (3*kf*a*b-2*kb*c)*0.2\n",
        "    print()\n",
        "    print(f\"At time {round(delta_t,1)} : \")\n",
        "    # print()\n",
        "    print(\"C1: \",A)\n",
        "    print(\"C2: \",B)\n",
        "    print(\"C3: \",C)\n",
        "\n",
        "    # threshold = 0.4\n",
        "    if (abs(A-a) < 0.4):\n",
        "      break\n",
        "    elif (abs(B-b) < 0.4):\n",
        "      break\n",
        "    elif (abs(C-c) < 0.4):\n",
        "      break\n",
        "\n"
      ],
      "execution_count": 7,
      "outputs": [
        {
          "output_type": "stream",
          "text": [
            "\n",
            "At time 0.2 : \n",
            "C1:  43.78\n",
            "C2:  12.53\n",
            "C3:  33.690000000000005\n",
            "\n",
            "At time 0.4 : \n",
            "C1:  41.104563\n",
            "C2:  7.111745999999999\n",
            "C3:  41.783691000000005\n",
            "\n",
            "At time 0.6 : \n",
            "C1:  39.726504324515005\n",
            "C2:  4.272061267030019\n",
            "C3:  46.001434408454976\n",
            "\n",
            "At time 0.8 : \n",
            "C1:  38.96993689133561\n",
            "C2:  2.666923531854318\n",
            "C3:  48.36313957681007\n",
            "\n",
            "At time 1.0 : \n",
            "C1:  38.54701396183732\n",
            "C2:  1.7243513937041315\n",
            "C3:  49.72863464445854\n",
            "\n",
            "At time 1.2 : \n",
            "C1:  38.314128244885104\n",
            "C2:  1.1591226905107805\n",
            "C3:  50.526749064604104\n"
          ],
          "name": "stdout"
        }
      ]
    }
  ]
}